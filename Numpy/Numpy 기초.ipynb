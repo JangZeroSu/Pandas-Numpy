{
 "cells": [
  {
   "cell_type": "code",
   "execution_count": null,
   "id": "9c4b2f88",
   "metadata": {},
   "outputs": [],
   "source": [
    "# 모듈 호출\n",
    "import numpy as np"
   ]
  },
  {
   "cell_type": "code",
   "execution_count": 5,
   "id": "51a98691",
   "metadata": {},
   "outputs": [
    {
     "data": {
      "text/plain": [
       "array(1)"
      ]
     },
     "execution_count": 5,
     "metadata": {},
     "output_type": "execute_result"
    }
   ],
   "source": [
    "a = np.array(1)\n",
    "a"
   ]
  },
  {
   "cell_type": "code",
   "execution_count": 12,
   "id": "4995ea80",
   "metadata": {},
   "outputs": [
    {
     "name": "stdout",
     "output_type": "stream",
     "text": [
      "[1 2 3]\n",
      "int32\n",
      "[1. 2. 3.]\n",
      "float64\n",
      "['1' '2.0' '3']\n",
      "<U32\n"
     ]
    }
   ],
   "source": [
    "# 배열 생성 및 타입 확인\n",
    "\n",
    "array_1 = np.array([1,2,3])\n",
    "print(array_1)\n",
    "print(array_1.dtype)\n",
    "\n",
    "array_2 = np.array([1,2.0,3])\n",
    "print(array_2)\n",
    "print(array_2.dtype)\n",
    "\n",
    "array_3 = np.array([1,2.0,'3'])\n",
    "print(array_3)\n",
    "print(array_3.dtype)"
   ]
  },
  {
   "cell_type": "code",
   "execution_count": 21,
   "id": "61737e9d",
   "metadata": {
    "collapsed": true
   },
   "outputs": [
    {
     "name": "stdout",
     "output_type": "stream",
     "text": [
      "int8\n",
      "float64\n",
      "<U1\n"
     ]
    },
    {
     "name": "stderr",
     "output_type": "stream",
     "text": [
      "C:\\Users\\Admin\\AppData\\Local\\Temp\\ipykernel_16768\\720618511.py:4: DeprecationWarning: `np.float` is a deprecated alias for the builtin `float`. To silence this warning, use `float` by itself. Doing this will not modify any behavior and is safe. If you specifically wanted the numpy scalar type, use `np.float64` here.\n",
      "Deprecated in NumPy 1.20; for more details and guidance: https://numpy.org/devdocs/release/1.20.0-notes.html#deprecations\n",
      "  dtype2 = np.array([1,2,3,4], dtype=np.float)\n",
      "C:\\Users\\Admin\\AppData\\Local\\Temp\\ipykernel_16768\\720618511.py:7: DeprecationWarning: `np.str` is a deprecated alias for the builtin `str`. To silence this warning, use `str` by itself. Doing this will not modify any behavior and is safe. If you specifically wanted the numpy scalar type, use `np.str_` here.\n",
      "Deprecated in NumPy 1.20; for more details and guidance: https://numpy.org/devdocs/release/1.20.0-notes.html#deprecations\n",
      "  dtype3 = np.array([1,2,3,4,5], dtype=np.str)\n"
     ]
    }
   ],
   "source": [
    "# 자료형 지정\n",
    "\n",
    "dtype1 = np.array([1,2,3], dtype=np.int8)\n",
    "print(dtype1.dtype)\n",
    "\n",
    "dtype2 = np.array([1,2,3,4], dtype=np.float)\n",
    "print(dtype2.dtype)\n",
    "\n",
    "dtype3 = np.array([1,2,3,4,5], dtype=np.str)\n",
    "print(dtype3.dtype)"
   ]
  },
  {
   "cell_type": "code",
   "execution_count": 25,
   "id": "164d7b74",
   "metadata": {},
   "outputs": [
    {
     "name": "stdout",
     "output_type": "stream",
     "text": [
      "(3,)\n",
      "1\n"
     ]
    }
   ],
   "source": [
    "# 배열 정보 확인\n",
    "\n",
    "print(array_1.shape)  # 배열 크기\n",
    "print(array_1.ndim)   # 배열 차원"
   ]
  },
  {
   "cell_type": "code",
   "execution_count": 28,
   "id": "e788f4c8",
   "metadata": {},
   "outputs": [
    {
     "name": "stdout",
     "output_type": "stream",
     "text": [
      "[1 2 3]\n",
      "(3,)\n",
      "1\n",
      "int32\n"
     ]
    }
   ],
   "source": [
    "# 배열 생성\n",
    "\n",
    "# 1 차원\n",
    "vector = np.array([1,2,3])  \n",
    "\n",
    "print(vector)\n",
    "print(vector.shape)\n",
    "print(vector.ndim)\n",
    "print(vector.dtype)"
   ]
  },
  {
   "cell_type": "code",
   "execution_count": 30,
   "id": "09eb23a6",
   "metadata": {},
   "outputs": [
    {
     "name": "stdout",
     "output_type": "stream",
     "text": [
      "[[1 2 3]\n",
      " [4 5 6]]\n",
      "(2, 3)\n",
      "2\n",
      "int32\n"
     ]
    }
   ],
   "source": [
    "# 2 차원\n",
    "matrix = np.array([[1,2,3], [4,5,6]])\n",
    "\n",
    "print(matrix)\n",
    "print(matrix.shape)\n",
    "print(matrix.ndim)\n",
    "print(matrix.dtype)"
   ]
  },
  {
   "cell_type": "code",
   "execution_count": 31,
   "id": "7ea5ac50",
   "metadata": {},
   "outputs": [
    {
     "name": "stdout",
     "output_type": "stream",
     "text": [
      "[[[ 1  2  3]\n",
      "  [ 4  5  6]\n",
      "  [ 7  8  9]\n",
      "  [10 11 12]]]\n",
      "(1, 4, 3)\n",
      "3\n",
      "int32\n"
     ]
    }
   ],
   "source": [
    "# 3 차원\n",
    "tensor = np.array([[[1,2,3], [4,5,6], [7,8,9], [10,11,12]]])\n",
    "\n",
    "print(tensor)\n",
    "print(tensor.shape)\n",
    "print(tensor.ndim)\n",
    "print(tensor.dtype)"
   ]
  },
  {
   "cell_type": "code",
   "execution_count": 33,
   "id": "84589f11",
   "metadata": {},
   "outputs": [
    {
     "name": "stdout",
     "output_type": "stream",
     "text": [
      "3\n",
      "6\n",
      "12\n"
     ]
    }
   ],
   "source": [
    "# 배열 요소 개수 확인\n",
    "print(vector.size)\n",
    "print(matrix.size)\n",
    "print(tensor.size)"
   ]
  },
  {
   "cell_type": "code",
   "execution_count": 40,
   "id": "1bda2dbd",
   "metadata": {
    "collapsed": true
   },
   "outputs": [
    {
     "name": "stdout",
     "output_type": "stream",
     "text": [
      "[[1 2 3]\n",
      " [4 5 6]]\n",
      "[list([1, 2, 3]) list([4, 5, 6, 7])]\n"
     ]
    },
    {
     "name": "stderr",
     "output_type": "stream",
     "text": [
      "C:\\Users\\Admin\\AppData\\Local\\Temp\\ipykernel_16768\\2773617494.py:8: VisibleDeprecationWarning: Creating an ndarray from ragged nested sequences (which is a list-or-tuple of lists-or-tuples-or ndarrays with different lengths or shapes) is deprecated. If you meant to do this, you must specify 'dtype=object' when creating the ndarray.\n",
      "  arr4 = np.array(list4)\n"
     ]
    }
   ],
   "source": [
    "# 2 차원 리스트 변환\n",
    "list3 = [[1,2,3], [4,5,6]]\n",
    "arr3 = np.array(list3)\n",
    "print(arr3)\n",
    "\n",
    "# shape 다른 리스트인 경우\n",
    "list4 = [[1,2,3], [4,5,6,7]]\n",
    "arr4 = np.array(list4)\n",
    "print(arr4)"
   ]
  },
  {
   "cell_type": "code",
   "execution_count": 42,
   "id": "489e5ebb",
   "metadata": {},
   "outputs": [
    {
     "name": "stdout",
     "output_type": "stream",
     "text": [
      "[1 2 3]\n",
      "(1, 2, 3)\n"
     ]
    }
   ],
   "source": [
    "# 자료형 변환(튜플)\n",
    "tuple1 = (1,2,3)\n",
    "arr = np.array(tuple1)\n",
    "print(arr)\n",
    "\n",
    "arr2 = np.array([1,2,3])\n",
    "tuple2 = tuple(arr2)\n",
    "print(tuple2)"
   ]
  },
  {
   "cell_type": "code",
   "execution_count": 46,
   "id": "4970d1aa",
   "metadata": {},
   "outputs": [
    {
     "name": "stdout",
     "output_type": "stream",
     "text": [
      "{1, 2, 3}\n",
      "1\n",
      "{'a': 1, 'b': 2, 'c': 3}\n",
      "1\n"
     ]
    }
   ],
   "source": [
    "# 자료형 변환(세트, 딕셔너리)\n",
    "set1 = {1,2,3}\n",
    "arr = np.array(set1)\n",
    "print(arr)\n",
    "print(arr.size)\n",
    "\n",
    "dict1 = {'a':1,'b':2,'c':3}\n",
    "arr = np.array(dict1)\n",
    "print(arr)\n",
    "print(arr.size)"
   ]
  },
  {
   "cell_type": "code",
   "execution_count": 57,
   "id": "480549cc",
   "metadata": {},
   "outputs": [
    {
     "name": "stdout",
     "output_type": "stream",
     "text": [
      "1\n",
      "1\n",
      "1\n"
     ]
    }
   ],
   "source": [
    "# 배열 인덱싱\n",
    "list_1 = [[[1,2],[3,4]],[[5,6],[7,8]]]\n",
    "print(list_1[0][0][0])\n",
    "\n",
    "arr_1 = np.array([[[1,2],[3,4]],[[5,6],[7,8]]])\n",
    "print(arr_1[0][0][0])\n",
    "print(arr_1[0,0,0])"
   ]
  },
  {
   "cell_type": "code",
   "execution_count": 72,
   "id": "9d3512a5",
   "metadata": {},
   "outputs": [
    {
     "name": "stdout",
     "output_type": "stream",
     "text": [
      "[1 3 4]\n",
      "[3 4 5]\n"
     ]
    }
   ],
   "source": [
    "arr = np.array([1,2,3,4,5])\n",
    "print(arr[[True,False,True,True,False]])\n",
    "\n",
    "# 조건\n",
    "print(arr[arr>=3])"
   ]
  },
  {
   "cell_type": "code",
   "execution_count": 77,
   "id": "ff09813f",
   "metadata": {},
   "outputs": [
    {
     "name": "stdout",
     "output_type": "stream",
     "text": [
      "[ 1  6 11 16]\n",
      "[[ 1]\n",
      " [ 6]\n",
      " [11]\n",
      " [16]]\n"
     ]
    }
   ],
   "source": [
    "# 배열 슬라이싱\n",
    "matrix = np.array([[1,2,3,4,5],\n",
    "                   [6,7,8,9,10],\n",
    "                   [11,12,13,14,15],\n",
    "                   [16,17,18,19,20]])\n",
    "\n",
    "print(matrix[:,0])\n",
    "print(matrix[:,:1]) # 2 차원 유지"
   ]
  },
  {
   "cell_type": "code",
   "execution_count": 82,
   "id": "1326417e",
   "metadata": {},
   "outputs": [
    {
     "name": "stdout",
     "output_type": "stream",
     "text": [
      "[ 6  7  8  9 10]\n",
      "[ 6  7  8  9 10]\n",
      "[[ 6  7  8  9 10]]\n",
      "[[ 6  7  8  9 10]]\n"
     ]
    }
   ],
   "source": [
    "# 1 행 전체 슬라이싱\n",
    "print(matrix[1,:])\n",
    "print(matrix[1])  # rank > row > col 순으로 : (콜론) 생략 가능\n",
    "\n",
    "print(matrix[1:2,:]) # 2차원 유지\n",
    "print(matrix[[1]])   # or"
   ]
  },
  {
   "cell_type": "code",
   "execution_count": 85,
   "id": "3f6a2a38",
   "metadata": {},
   "outputs": [
    {
     "name": "stdout",
     "output_type": "stream",
     "text": [
      "[[ 4  5]\n",
      " [ 9 10]\n",
      " [14 15]\n",
      " [19 20]]\n",
      "[2 3 4]\n",
      "[[13 14 15]\n",
      " [18 19 20]]\n"
     ]
    }
   ],
   "source": [
    "# 3~4 열 전체 슬라이싱\n",
    "print(matrix[:,3:])"
   ]
  },
  {
   "cell_type": "code",
   "execution_count": null,
   "id": "34aaf91b",
   "metadata": {},
   "outputs": [],
   "source": [
    "# 0행, 1~3열 슬라이싱\n",
    "print(matrix[0,1:-1])"
   ]
  },
  {
   "cell_type": "code",
   "execution_count": null,
   "id": "abb1328b",
   "metadata": {},
   "outputs": [],
   "source": [
    "# 2~3행, 2~4열 슬라이싱\n",
    "print(matrix[-2:,-3:])"
   ]
  },
  {
   "cell_type": "code",
   "execution_count": 90,
   "id": "893706e3",
   "metadata": {},
   "outputs": [
    {
     "name": "stdout",
     "output_type": "stream",
     "text": [
      "[[ 7  8]\n",
      " [12 13]]\n"
     ]
    }
   ],
   "source": [
    "# 1~2행, 1~2열 슬라이싱\n",
    "print(matrix[1:-1,1:3])"
   ]
  },
  {
   "cell_type": "code",
   "execution_count": 92,
   "id": "abb60b36",
   "metadata": {},
   "outputs": [
    {
     "name": "stdout",
     "output_type": "stream",
     "text": [
      "[[ 8  9 10]\n",
      " [18 19 20]]\n"
     ]
    }
   ],
   "source": [
    "# 1,3 행, 2~4 열 슬라이싱\n",
    "print(matrix[[1,3],2:])"
   ]
  },
  {
   "cell_type": "code",
   "execution_count": 93,
   "id": "4d794fb8",
   "metadata": {},
   "outputs": [
    {
     "name": "stdout",
     "output_type": "stream",
     "text": [
      "[[ 7  9]\n",
      " [12 14]]\n"
     ]
    }
   ],
   "source": [
    "# 1~2 행, 1,3 열 슬라이싱\n",
    "print(matrix[1:-1,[1,3]])"
   ]
  }
 ],
 "metadata": {
  "kernelspec": {
   "display_name": "Python 3 (ipykernel)",
   "language": "python",
   "name": "python3"
  },
  "language_info": {
   "codemirror_mode": {
    "name": "ipython",
    "version": 3
   },
   "file_extension": ".py",
   "mimetype": "text/x-python",
   "name": "python",
   "nbconvert_exporter": "python",
   "pygments_lexer": "ipython3",
   "version": "3.9.12"
  }
 },
 "nbformat": 4,
 "nbformat_minor": 5
}
