{
 "cells": [
  {
   "cell_type": "code",
   "execution_count": 3,
   "id": "1ccb8073",
   "metadata": {},
   "outputs": [],
   "source": [
    "import numpy as np"
   ]
  },
  {
   "cell_type": "code",
   "execution_count": 4,
   "id": "ca07c785",
   "metadata": {},
   "outputs": [
    {
     "data": {
      "text/plain": [
       "[1, 2, 3, 4, 5, 6]"
      ]
     },
     "execution_count": 4,
     "metadata": {},
     "output_type": "execute_result"
    }
   ],
   "source": [
    "# 리스트의 덧셈\n",
    "list1 = [1,2,3]\n",
    "list2 = [4,5,6]\n",
    "list1 + list2"
   ]
  },
  {
   "cell_type": "code",
   "execution_count": 16,
   "id": "7fd90ed1",
   "metadata": {},
   "outputs": [
    {
     "name": "stdout",
     "output_type": "stream",
     "text": [
      "[[5 7]\n",
      " [9 8]]\n",
      "[[5 7]\n",
      " [9 8]]\n",
      " \n",
      "[[-3 -3]\n",
      " [-3  0]]\n",
      "[[-3 -3]\n",
      " [-3  0]]\n",
      " \n",
      "[[ 4 10]\n",
      " [18 16]]\n",
      "[[ 4 10]\n",
      " [18 16]]\n",
      " \n",
      "[[0.25 0.4 ]\n",
      " [0.5  1.  ]]\n",
      "[[0.25 0.4 ]\n",
      " [0.5  1.  ]]\n",
      " \n",
      "[[1 2]\n",
      " [3 0]]\n",
      " \n",
      "[[0 0]\n",
      " [0 1]]\n"
     ]
    }
   ],
   "source": [
    "# 배열의 산칙연산\n",
    "# 배열 모양이 같은 경우\n",
    "arr1 = np.array([1,2,3,4]).reshape(2,2)\n",
    "arr2 = np.array([4,5,6,4]).reshape(2,2)\n",
    "print(arr1+arr2)\n",
    "print(np.add(arr1,arr2))\n",
    "\n",
    "print(\" \")\n",
    "print(arr1-arr2)\n",
    "print(np.subtract(arr1,arr2))\n",
    "\n",
    "print(\" \")\n",
    "print(arr1*arr2)\n",
    "print(np.multiply(arr1,arr2))\n",
    "\n",
    "print(\" \")\n",
    "print(arr1/arr2)\n",
    "print(np.divide(arr1,arr2))\n",
    "\n",
    "print(\" \")\n",
    "print(arr1%arr2)\n",
    "\n",
    "print(\" \")\n",
    "print(arr1//arr2)"
   ]
  },
  {
   "cell_type": "code",
   "execution_count": 20,
   "id": "35674756",
   "metadata": {},
   "outputs": [
    {
     "name": "stdout",
     "output_type": "stream",
     "text": [
      "[11 12 13]\n",
      "[[11 12 13]\n",
      " [14 15 16]]\n"
     ]
    }
   ],
   "source": [
    "# 배열 모양이 다른 경우\n",
    "a = 10  # 지정\n",
    "vector = np.array([1,2,3])\n",
    "print(a+vector)\n",
    "\n",
    "vector2 = np.array([[1,2,3],[4,5,6]])\n",
    "print(a+vector2)"
   ]
  },
  {
   "cell_type": "code",
   "execution_count": 22,
   "id": "29629696",
   "metadata": {},
   "outputs": [
    {
     "name": "stdout",
     "output_type": "stream",
     "text": [
      "[[1 2 3]\n",
      " [4 5 6]\n",
      " [7 8 9]]\n",
      "[[11 12 13]]\n"
     ]
    },
    {
     "data": {
      "text/plain": [
       "array([[12, 14, 16],\n",
       "       [15, 17, 19],\n",
       "       [18, 20, 22]])"
      ]
     },
     "execution_count": 22,
     "metadata": {},
     "output_type": "execute_result"
    }
   ],
   "source": [
    "matrix = np.arange(1,10).reshape(3,3)\n",
    "vector = np.arange(11,14).reshape(1,3)\n",
    "print(matrix)\n",
    "print(vector)\n",
    "\n",
    "matrix+vector"
   ]
  },
  {
   "cell_type": "code",
   "execution_count": 36,
   "id": "7c5e6dff",
   "metadata": {},
   "outputs": [
    {
     "name": "stdout",
     "output_type": "stream",
     "text": [
      "[1 2 3]\n",
      "[[1]\n",
      " [2]\n",
      " [3]]\n"
     ]
    },
    {
     "data": {
      "text/plain": [
       "array([[2, 3, 4],\n",
       "       [3, 4, 5],\n",
       "       [4, 5, 6]])"
      ]
     },
     "execution_count": 36,
     "metadata": {},
     "output_type": "execute_result"
    }
   ],
   "source": [
    "arr1 = np.array([1,2,3])\n",
    "print(arr1)\n",
    "\n",
    "arr2 = np.array([1,2,3]).reshape(3,1)\n",
    "print(arr2)\n",
    "\n",
    "arr1+arr2"
   ]
  },
  {
   "cell_type": "code",
   "execution_count": 37,
   "id": "4c6496ec",
   "metadata": {},
   "outputs": [
    {
     "data": {
      "text/plain": [
       "14"
      ]
     },
     "execution_count": 37,
     "metadata": {},
     "output_type": "execute_result"
    }
   ],
   "source": [
    "arr1 = np.array([1,2,3])\n",
    "arr2 = np.array([1,2,3]).T\n",
    "np.dot(arr1,arr2)"
   ]
  },
  {
   "cell_type": "code",
   "execution_count": 40,
   "id": "19a9d958",
   "metadata": {},
   "outputs": [
    {
     "data": {
      "text/plain": [
       "array([[ 82,  88],\n",
       "       [199, 214]])"
      ]
     },
     "execution_count": 40,
     "metadata": {},
     "output_type": "execute_result"
    }
   ],
   "source": [
    "arr3 = np.arange(1,7).reshape(2,3)\n",
    "arr4 = np.arange(11,17).reshape(3,2)\n",
    "np.dot(arr3,arr4)"
   ]
  }
 ],
 "metadata": {
  "kernelspec": {
   "display_name": "Python 3 (ipykernel)",
   "language": "python",
   "name": "python3"
  },
  "language_info": {
   "codemirror_mode": {
    "name": "ipython",
    "version": 3
   },
   "file_extension": ".py",
   "mimetype": "text/x-python",
   "name": "python",
   "nbconvert_exporter": "python",
   "pygments_lexer": "ipython3",
   "version": "3.9.12"
  }
 },
 "nbformat": 4,
 "nbformat_minor": 5
}
