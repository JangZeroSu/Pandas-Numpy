{
 "cells": [
  {
   "cell_type": "code",
   "execution_count": 28,
   "id": "37b786c4",
   "metadata": {},
   "outputs": [],
   "source": [
    "import numpy as np"
   ]
  },
  {
   "cell_type": "code",
   "execution_count": 4,
   "id": "b392e5e0",
   "metadata": {},
   "outputs": [
    {
     "name": "stdout",
     "output_type": "stream",
     "text": [
      "[[-1.85741974  0.97772337  0.9753463  -0.98924606  1.57377201]\n",
      " [-0.37694937  0.70774623 -0.55827717  0.74335672  0.82246823]\n",
      " [ 0.18879525 -0.30782929 -0.30737293  0.53958402  0.75156296]]\n"
     ]
    }
   ],
   "source": [
    "# 파일 저장(tofile)\n",
    "n = np.random.randn(3,5)\n",
    "print(n)\n",
    "n.tofile('n.npy')"
   ]
  },
  {
   "cell_type": "code",
   "execution_count": 5,
   "id": "807469f5",
   "metadata": {},
   "outputs": [
    {
     "name": "stdout",
     "output_type": "stream",
     "text": [
      "[-1.85741974  0.97772337  0.9753463  -0.98924606  1.57377201 -0.37694937\n",
      "  0.70774623 -0.55827717  0.74335672  0.82246823  0.18879525 -0.30782929\n",
      " -0.30737293  0.53958402  0.75156296]\n"
     ]
    }
   ],
   "source": [
    "# 파일 불러오기(fromfile)\n",
    "m = np.fromfile('n.npy')\n",
    "print(m)"
   ]
  },
  {
   "cell_type": "code",
   "execution_count": 8,
   "id": "23860fc9",
   "metadata": {},
   "outputs": [
    {
     "name": "stdout",
     "output_type": "stream",
     "text": [
      "[[-1.85741974  0.97772337  0.9753463  -0.98924606  1.57377201]\n",
      " [-0.37694937  0.70774623 -0.55827717  0.74335672  0.82246823]\n",
      " [ 0.18879525 -0.30782929 -0.30737293  0.53958402  0.75156296]]\n"
     ]
    }
   ],
   "source": [
    "# 파일 저장, 불러오기   주로 사용\n",
    "np.save('n1.npy',n)\n",
    "m1 = np.load('n1.npy')\n",
    "print(m1)"
   ]
  },
  {
   "cell_type": "code",
   "execution_count": 10,
   "id": "e5ef8dc8",
   "metadata": {},
   "outputs": [
    {
     "data": {
      "text/plain": [
       "array([[-1.85741974,  0.97772337,  0.9753463 , -0.98924606,  1.57377201],\n",
       "       [-0.37694937,  0.70774623, -0.55827717,  0.74335672,  0.82246823],\n",
       "       [ 0.18879525, -0.30782929, -0.30737293,  0.53958402,  0.75156296]])"
      ]
     },
     "execution_count": 10,
     "metadata": {},
     "output_type": "execute_result"
    }
   ],
   "source": [
    "# txt 파일 저장 / 불러오기\n",
    "np.savetxt('n.txt',n)\n",
    "np.loadtxt('n.txt')"
   ]
  },
  {
   "cell_type": "code",
   "execution_count": 11,
   "id": "13052e99",
   "metadata": {},
   "outputs": [
    {
     "data": {
      "text/plain": [
       "array([[-1.85741974,  0.97772337,  0.9753463 , -0.98924606,  1.57377201],\n",
       "       [-0.37694937,  0.70774623, -0.55827717,  0.74335672,  0.82246823],\n",
       "       [ 0.18879525, -0.30782929, -0.30737293,  0.53958402,  0.75156296]])"
      ]
     },
     "execution_count": 11,
     "metadata": {},
     "output_type": "execute_result"
    }
   ],
   "source": [
    "# csv 파일 저장 / 불러오기\n",
    "np.savetxt('n.csv',n)\n",
    "np.loadtxt('n.csv')"
   ]
  },
  {
   "cell_type": "code",
   "execution_count": 43,
   "id": "944595de",
   "metadata": {},
   "outputs": [
    {
     "data": {
      "text/plain": [
       "<function numpy.unique(ar, return_index=False, return_inverse=False, return_counts=False, axis=None)>"
      ]
     },
     "execution_count": 43,
     "metadata": {},
     "output_type": "execute_result"
    }
   ],
   "source": [
    "np.unique"
   ]
  },
  {
   "cell_type": "code",
   "execution_count": 57,
   "id": "efc78b2c",
   "metadata": {},
   "outputs": [
    {
     "name": "stdout",
     "output_type": "stream",
     "text": [
      "[[      1  565082     273   27177]\n",
      " [      2 2827233     444   45111]\n",
      " [      3 1144913     289   29043]\n",
      " [      4 1131034     230   22436]\n",
      " [      5  380425     391   38020]]\n"
     ]
    }
   ],
   "source": [
    "# 파일 읽어오기\n",
    "data = np.loadtxt('ex1_지역별전기요금.csv', delimiter=',',dtype=np.int32, encoding='euc-kr') \n",
    "print(data[:5,:])                                        #  'euc-kr', 'cp949'  encoding 해줄것"
   ]
  },
  {
   "cell_type": "code",
   "execution_count": 61,
   "id": "50ca8dcd",
   "metadata": {},
   "outputs": [
    {
     "name": "stdout",
     "output_type": "stream",
     "text": [
      "(17, 4)\n",
      "[ 1  2  3  4  5  6  7  8  9 10 11 12 13 14 15 16 17]\n"
     ]
    }
   ],
   "source": [
    "# 데이터 모양 확인\n",
    "print(data.shape)\n",
    "# 중복 지역 확인\n",
    "print(np.unique(data[:,0]))"
   ]
  },
  {
   "cell_type": "code",
   "execution_count": 63,
   "id": "53523d65",
   "metadata": {},
   "outputs": [
    {
     "name": "stdout",
     "output_type": "stream",
     "text": [
      "[ 9 14 10  4  6  0 16 13  5 12 11 15  7  3  2  8  1]\n",
      "[[     10   49394     580   57091]\n",
      " [     15  258605     221   22180]\n",
      " [     11  323151     353   35470]\n",
      " [      5  380425     391   38020]\n",
      " [      7  425659     344   32331]\n",
      " [      1  565082     273   27177]\n",
      " [     17  584500     268   26899]\n",
      " [     14  634696     285   28556]\n",
      " [      6  668623     364   35245]\n",
      " [     13  726699     249   25120]\n",
      " [     12  734723     398   40049]\n",
      " [     16  742285     282   27901]\n",
      " [      8  947300     366   36274]\n",
      " [      4 1131034     230   22436]\n",
      " [      3 1144913     289   29043]\n",
      " [      9 2737725     361   36569]\n",
      " [      2 2827233     444   45111]]\n"
     ]
    }
   ],
   "source": [
    "# 데이터 확인  크기 순 정렬\n",
    "print(data[:,1].argsort())\n",
    "\n",
    "print(data[data[:,1].argsort()])"
   ]
  },
  {
   "cell_type": "code",
   "execution_count": 65,
   "id": "66b5efc1",
   "metadata": {},
   "outputs": [
    {
     "name": "stdout",
     "output_type": "stream",
     "text": [
      "14882047\n",
      "335.18\n"
     ]
    }
   ],
   "source": [
    "# 전국 대상 가구수 합\n",
    "print(np.sum(data[:,1]))\n",
    "\n",
    "# 가구당 평균 정력 사용량의 전국 평균값\n",
    "print(round(data[:,2].mean(),2))"
   ]
  },
  {
   "cell_type": "code",
   "execution_count": 69,
   "id": "e269eba2",
   "metadata": {},
   "outputs": [
    {
     "name": "stdout",
     "output_type": "stream",
     "text": [
      "[[      2 2827233]\n",
      " [      5  380425]\n",
      " [      6  668623]\n",
      " [      7  425659]\n",
      " [      8  947300]\n",
      " [      9 2737725]\n",
      " [     10   49394]\n",
      " [     11  323151]\n",
      " [     12  734723]]\n"
     ]
    }
   ],
   "source": [
    "# 가구당 평균 전력 사용량이 평균 이상인 지역과 대상 가구수 추출\n",
    "avg = data[:,2].mean() # 가구당 평균 전력 사용량의 전국 평균\n",
    "print(data[data[:,2]>avg,0:2])"
   ]
  }
 ],
 "metadata": {
  "kernelspec": {
   "display_name": "Python 3 (ipykernel)",
   "language": "python",
   "name": "python3"
  },
  "language_info": {
   "codemirror_mode": {
    "name": "ipython",
    "version": 3
   },
   "file_extension": ".py",
   "mimetype": "text/x-python",
   "name": "python",
   "nbconvert_exporter": "python",
   "pygments_lexer": "ipython3",
   "version": "3.9.12"
  }
 },
 "nbformat": 4,
 "nbformat_minor": 5
}
