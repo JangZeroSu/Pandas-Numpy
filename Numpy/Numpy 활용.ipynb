{
 "cells": [
  {
   "cell_type": "code",
   "execution_count": 2,
   "id": "f25ebd33",
   "metadata": {},
   "outputs": [],
   "source": [
    "import numpy as np"
   ]
  },
  {
   "cell_type": "code",
   "execution_count": 5,
   "id": "10a1d9bf",
   "metadata": {},
   "outputs": [
    {
     "name": "stdout",
     "output_type": "stream",
     "text": [
      "[[1 2]\n",
      " [3 4]\n",
      " [5 6]]\n",
      "[[[1 2]]\n",
      "\n",
      " [[3 4]]\n",
      "\n",
      " [[5 6]]]\n"
     ]
    }
   ],
   "source": [
    "# Reshape\n",
    "arr = np.array([[1,2,3],\n",
    "                [4,5,6]]) # 2*3 형태의 2차원 배열\n",
    "print(arr.reshape(3,2))   # 3*2 형태의 배열로 변형\n",
    "\n",
    "print(arr.reshape(3,1,2)) # 3*1*2 형태로 변형"
   ]
  },
  {
   "cell_type": "code",
   "execution_count": 6,
   "id": "f8a40d1c",
   "metadata": {},
   "outputs": [
    {
     "name": "stdout",
     "output_type": "stream",
     "text": [
      "[1 2 3 4 5 6]\n"
     ]
    }
   ],
   "source": [
    "# Flatten\n",
    "print(arr.flatten()) # 다차원을 1 차원으로"
   ]
  },
  {
   "cell_type": "code",
   "execution_count": 9,
   "id": "5c0d4554",
   "metadata": {},
   "outputs": [
    {
     "name": "stdout",
     "output_type": "stream",
     "text": [
      "[ 0  1  2  3  4  5  6  7  8  9 10 11 12 13 14 15 16 17 18 19]\n",
      "[0 2 4 6 8]\n"
     ]
    }
   ],
   "source": [
    "# Arange\n",
    "print(np.arange(20))\n",
    "print(np.arange(0,10,2))"
   ]
  },
  {
   "cell_type": "code",
   "execution_count": 10,
   "id": "e2cfb8fd",
   "metadata": {},
   "outputs": [
    {
     "name": "stdout",
     "output_type": "stream",
     "text": [
      "[[ 1  2  3  4  5]\n",
      " [ 6  7  8  9 10]\n",
      " [11 12 13 14 15]\n",
      " [16 17 18 19 20]\n",
      " [21 22 23 24 25]]\n"
     ]
    }
   ],
   "source": [
    "# Arange + Reshape\n",
    "print(np.arange(1, 26).reshape(5,5))"
   ]
  },
  {
   "cell_type": "code",
   "execution_count": 13,
   "id": "e21f5aaf",
   "metadata": {},
   "outputs": [
    {
     "name": "stdout",
     "output_type": "stream",
     "text": [
      "[0 0 0 0 0]\n",
      "[0 0 0 0 0]\n",
      "[[0. 0. 0.]\n",
      " [0. 0. 0.]]\n"
     ]
    }
   ],
   "source": [
    "# Zeros  0으로 채워진 배열 생성\n",
    "print(np.zeros(shape=(5,),dtype=np.int8))\n",
    "print(np.zeros((5),int))\n",
    "print(np.zeros((2,3)))"
   ]
  },
  {
   "cell_type": "code",
   "execution_count": 17,
   "id": "226a2d24",
   "metadata": {},
   "outputs": [
    {
     "name": "stdout",
     "output_type": "stream",
     "text": [
      "[1 1 1 1 1]\n",
      "[1 1 1 1 1]\n",
      "[[1. 1. 1.]\n",
      " [1. 1. 1.]]\n"
     ]
    }
   ],
   "source": [
    "# Ones  1로 채워진 배열 생성\n",
    "print(np.ones(shape=(5,),dtype=np.int8))\n",
    "print(np.ones((5),int))\n",
    "print(np.ones((2,3)))"
   ]
  },
  {
   "cell_type": "code",
   "execution_count": 19,
   "id": "d3fb5af0",
   "metadata": {},
   "outputs": [
    {
     "name": "stdout",
     "output_type": "stream",
     "text": [
      "[4128860 6029375 3801155 5570652 6619251 7536754 4259840 7143524 7209065\n",
      "       0]\n",
      "[[  64   -1 -113  -91   73]\n",
      " [   2    0    0    0    0]]\n"
     ]
    }
   ],
   "source": [
    "# Empty  비어있는 배열 생성\n",
    "print(np.empty(shape=(10,),dtype=np.int32))\n",
    "print(np.empty((2,5),np.int8))"
   ]
  },
  {
   "cell_type": "code",
   "execution_count": 22,
   "id": "c848ec10",
   "metadata": {},
   "outputs": [
    {
     "data": {
      "text/plain": [
       "array([[-1, -1,  0,  0,  0],\n",
       "       [ 0,  0,  0,  0,  0],\n",
       "       [ 0,  0,  0,  0,  0],\n",
       "       [ 0,  0,  0,  0,  0]])"
      ]
     },
     "execution_count": 22,
     "metadata": {},
     "output_type": "execute_result"
    }
   ],
   "source": [
    "# zeros_like, ones_like, empty_like\n",
    "# 입력 받은 배열과 같은 shape, dtype의 배열 생성\n",
    "matrix = np.arange(20).reshape(4,5)\n",
    "np.empty_like(matrix)"
   ]
  },
  {
   "cell_type": "code",
   "execution_count": 25,
   "id": "1a19294e",
   "metadata": {},
   "outputs": [
    {
     "data": {
      "text/plain": [
       "array([[1., 0., 0., 0., 0.],\n",
       "       [0., 1., 0., 0., 0.],\n",
       "       [0., 0., 1., 0., 0.],\n",
       "       [0., 0., 0., 1., 0.],\n",
       "       [0., 0., 0., 0., 1.]])"
      ]
     },
     "execution_count": 25,
     "metadata": {},
     "output_type": "execute_result"
    }
   ],
   "source": [
    "# Identity 대각선 값1  나머지 0  정사각형\n",
    "np.identity(5)"
   ]
  },
  {
   "cell_type": "code",
   "execution_count": 29,
   "id": "5b88a47c",
   "metadata": {},
   "outputs": [
    {
     "name": "stdout",
     "output_type": "stream",
     "text": [
      "[[1. 0. 0. 0. 0.]\n",
      " [0. 1. 0. 0. 0.]\n",
      " [0. 0. 1. 0. 0.]\n",
      " [0. 0. 0. 1. 0.]\n",
      " [0. 0. 0. 0. 1.]]\n",
      "[[0. 0. 1. 0. 0. 0. 0. 0. 0. 0.]\n",
      " [0. 0. 0. 1. 0. 0. 0. 0. 0. 0.]\n",
      " [0. 0. 0. 0. 1. 0. 0. 0. 0. 0.]\n",
      " [0. 0. 0. 0. 0. 1. 0. 0. 0. 0.]\n",
      " [0. 0. 0. 0. 0. 0. 1. 0. 0. 0.]]\n"
     ]
    }
   ],
   "source": [
    "# eye  대각선이 1로 채워지는 행렬\n",
    "# k : 입력 받은 수 만큼 오른쪽으로 이동\n",
    "# M : 열의 개수 지정\n",
    "print(np.eye(5))\n",
    "print(np.eye(5,k=2,M=10))"
   ]
  },
  {
   "cell_type": "code",
   "execution_count": 36,
   "id": "50e45063",
   "metadata": {},
   "outputs": [
    {
     "name": "stdout",
     "output_type": "stream",
     "text": [
      "[[3 3 3 3 3]\n",
      " [3 3 3 3 3]]\n",
      "[['a' 'a' 'a' 'a']\n",
      " ['a' 'a' 'a' 'a']\n",
      " ['a' 'a' 'a' 'a']\n",
      " ['a' 'a' 'a' 'a']\n",
      " ['a' 'a' 'a' 'a']]\n"
     ]
    }
   ],
   "source": [
    "# Full  입력 값으로 채ㅐ워지는 행열\n",
    "print(np.full((2,5),3))\n",
    "print(np.full((5,4),'a'))"
   ]
  },
  {
   "cell_type": "code",
   "execution_count": 39,
   "id": "de183aa8",
   "metadata": {},
   "outputs": [
    {
     "name": "stdout",
     "output_type": "stream",
     "text": [
      "5\n",
      "7\n"
     ]
    }
   ],
   "source": [
    "# random.randint  범위 안의 랜덤 값 뽑기\n",
    "print(np.random.randint(6))\n",
    "print(np.random.randint(1,11))"
   ]
  },
  {
   "cell_type": "code",
   "execution_count": 43,
   "id": "7bd5e53a",
   "metadata": {},
   "outputs": [
    {
     "data": {
      "text/plain": [
       "array([[0.82984326, 0.66962588],\n",
       "       [0.84582472, 0.24228387],\n",
       "       [0.02151958, 0.01162181]])"
      ]
     },
     "execution_count": 43,
     "metadata": {},
     "output_type": "execute_result"
    }
   ],
   "source": [
    "# random.rand  0 ~ 1 값\n",
    "np.random.rand(3,2)"
   ]
  },
  {
   "cell_type": "code",
   "execution_count": 44,
   "id": "c8ff5d08",
   "metadata": {},
   "outputs": [
    {
     "data": {
      "text/plain": [
       "array([[ 0.37481766, -0.78676395],\n",
       "       [ 1.70568021, -1.05660117],\n",
       "       [-1.00158506, -0.17632602]])"
      ]
     },
     "execution_count": 44,
     "metadata": {},
     "output_type": "execute_result"
    }
   ],
   "source": [
    "# random.randn 평균 0, 표준편차 1\n",
    "np.random.randn(3,2)"
   ]
  },
  {
   "cell_type": "code",
   "execution_count": 47,
   "id": "d7b86d1a",
   "metadata": {},
   "outputs": [
    {
     "name": "stdout",
     "output_type": "stream",
     "text": [
      "21\n",
      "[5 7 9]\n"
     ]
    }
   ],
   "source": [
    "# sum\n",
    "matrix = np.arange(1,7).reshape(2,3)\n",
    "print(matrix.sum())\n",
    "\n",
    "print(matrix.sum(axis=0)) # 행끼리 더하기(위 아래)\n",
    "print(matrix.sum(axis=1)) # 열끼리 더하기(좌 우)"
   ]
  },
  {
   "cell_type": "code",
   "execution_count": 50,
   "id": "0a8ed332",
   "metadata": {},
   "outputs": [
    {
     "name": "stdout",
     "output_type": "stream",
     "text": [
      "[[[ 1  2  3]\n",
      "  [ 4  5  6]]\n",
      "\n",
      " [[ 7  8  9]\n",
      "  [10 11 12]]\n",
      "\n",
      " [[13 14 15]\n",
      "  [16 17 18]]]\n",
      "171\n"
     ]
    }
   ],
   "source": [
    "# sum 3차원 배열 합\n",
    "tensor = np.arange(1,19).reshape(3,2,3)\n",
    "print(tensor)\n",
    "print(tensor.sum())"
   ]
  },
  {
   "cell_type": "code",
   "execution_count": 54,
   "id": "066fd4a9",
   "metadata": {},
   "outputs": [
    {
     "name": "stdout",
     "output_type": "stream",
     "text": [
      "[[21 24 27]\n",
      " [30 33 36]]\n",
      "[[ 5  7  9]\n",
      " [17 19 21]\n",
      " [29 31 33]]\n",
      "[[ 6 15]\n",
      " [24 33]\n",
      " [42 51]]\n"
     ]
    }
   ],
   "source": [
    "# sum 3차원 배열 합\n",
    "print(tensor.sum(axis=0))\n",
    "print(tensor.sum(axis=1))\n",
    "print(tensor.sum(axis=2))"
   ]
  },
  {
   "cell_type": "code",
   "execution_count": 57,
   "id": "beffc0e5",
   "metadata": {},
   "outputs": [
    {
     "name": "stdout",
     "output_type": "stream",
     "text": [
      "3.5\n",
      "[2.5 3.5 4.5]\n",
      "[2. 5.]\n"
     ]
    }
   ],
   "source": [
    "# 평균 mean\n",
    "print(matrix.mean())       # 전체 평균\n",
    "print(matrix.mean(axis=0)) # 행끼리 평균(위 아래)\n",
    "print(matrix.mean(axis=1)) # 열끼리 평균(좌 우)"
   ]
  },
  {
   "cell_type": "code",
   "execution_count": 59,
   "id": "0ad99b4b",
   "metadata": {},
   "outputs": [
    {
     "name": "stdout",
     "output_type": "stream",
     "text": [
      "1.707825127659933\n",
      "[1.5 1.5 1.5]\n",
      "[0.81649658 0.81649658]\n"
     ]
    }
   ],
   "source": [
    "# 표준 편자(std)\n",
    "print(matrix.std())        # 전체 표준 편차\n",
    "print(matrix.std(axis=0))  # 행끼리 표준 편자(위 아래)\n",
    "print(matrix.std(axis=1))  # 열끼리 표준 편자(좌 우)"
   ]
  },
  {
   "cell_type": "code",
   "execution_count": 60,
   "id": "a50ce62e",
   "metadata": {},
   "outputs": [
    {
     "name": "stdout",
     "output_type": "stream",
     "text": [
      "[[  2.71828183   7.3890561   20.08553692]\n",
      " [ 54.59815003 148.4131591  403.42879349]]\n"
     ]
    }
   ],
   "source": [
    "# 지수(exp)\n",
    "print(np.exp(matrix))"
   ]
  },
  {
   "cell_type": "code",
   "execution_count": 61,
   "id": "752e7d55",
   "metadata": {},
   "outputs": [
    {
     "name": "stdout",
     "output_type": "stream",
     "text": [
      "[[0.         0.69314718 1.09861229]\n",
      " [1.38629436 1.60943791 1.79175947]]\n"
     ]
    }
   ],
   "source": [
    "# 로그(log)\n",
    "print(np.log(matrix))"
   ]
  },
  {
   "cell_type": "code",
   "execution_count": 62,
   "id": "fb42fa23",
   "metadata": {},
   "outputs": [
    {
     "name": "stdout",
     "output_type": "stream",
     "text": [
      "[[1.         1.41421356 1.73205081]\n",
      " [2.         2.23606798 2.44948974]]\n"
     ]
    }
   ],
   "source": [
    "# 제곱근(sqrt)\n",
    "print(np.sqrt(matrix))"
   ]
  },
  {
   "cell_type": "code",
   "execution_count": 63,
   "id": "1c470202",
   "metadata": {},
   "outputs": [
    {
     "name": "stdout",
     "output_type": "stream",
     "text": [
      "[[ 0.84147098  0.90929743  0.14112001]\n",
      " [-0.7568025  -0.95892427 -0.2794155 ]]\n"
     ]
    }
   ],
   "source": [
    "# 삼각함수(sin)\n",
    "print(np.sin(matrix))"
   ]
  },
  {
   "cell_type": "code",
   "execution_count": 64,
   "id": "e0f04a9d",
   "metadata": {},
   "outputs": [
    {
     "data": {
      "text/plain": [
       "array([[ 0.54030231, -0.41614684, -0.9899925 ],\n",
       "       [-0.65364362,  0.28366219,  0.96017029]])"
      ]
     },
     "execution_count": 64,
     "metadata": {},
     "output_type": "execute_result"
    }
   ],
   "source": [
    "# 삼각함수(cos)\n",
    "np.cos(matrix)"
   ]
  },
  {
   "cell_type": "code",
   "execution_count": 65,
   "id": "04a92328",
   "metadata": {},
   "outputs": [
    {
     "data": {
      "text/plain": [
       "array([[ 1.55740772, -2.18503986, -0.14254654],\n",
       "       [ 1.15782128, -3.38051501, -0.29100619]])"
      ]
     },
     "execution_count": 65,
     "metadata": {},
     "output_type": "execute_result"
    }
   ],
   "source": [
    "# 삼각함수(tan)\n",
    "np.tan(matrix)"
   ]
  },
  {
   "cell_type": "code",
   "execution_count": 81,
   "id": "7115aafb",
   "metadata": {},
   "outputs": [
    {
     "name": "stdout",
     "output_type": "stream",
     "text": [
      "[41 14 83 30 16]\n",
      "[14 16 30 41 83]\n",
      "[83 41 30 16 14]\n"
     ]
    }
   ],
   "source": [
    "# 배열 정렬(sort)\n",
    "# 1차원 배열 정렬\n",
    "vector = np.array([np.random.randint(1,100)for n in range(5)])\n",
    "print(vector)\n",
    "print(np.sort(vector))       # 오름차순\n",
    "print(np.sort(vector)[::-1]) # 내립차순"
   ]
  },
  {
   "cell_type": "code",
   "execution_count": 83,
   "id": "05724b93",
   "metadata": {},
   "outputs": [
    {
     "name": "stdout",
     "output_type": "stream",
     "text": [
      "[[1 2 3]\n",
      " [4 5 6]]\n",
      "[[1 2 3]\n",
      " [4 5 6]]\n"
     ]
    }
   ],
   "source": [
    "# 2차원 배열 정렬\n",
    "print(np.sort(matrix))  # 열 기준 정렬\n",
    "print(np.sort(matrix, axis=0))"
   ]
  },
  {
   "cell_type": "code",
   "execution_count": 84,
   "id": "fb77f556",
   "metadata": {},
   "outputs": [
    {
     "data": {
      "text/plain": [
       "array([[1, 2, 3],\n",
       "       [4, 5, 6]])"
      ]
     },
     "execution_count": 84,
     "metadata": {},
     "output_type": "execute_result"
    }
   ],
   "source": [
    "# 배열 합치기(vstack)\n",
    "# 2개 이상의 배열 수직 합체\n",
    "vector1 = np.array([1,2,3])\n",
    "vector2 = np.array([4,5,6])\n",
    "\n",
    "np.vstack([vector1,vector2])"
   ]
  },
  {
   "cell_type": "code",
   "execution_count": 87,
   "id": "72304f2e",
   "metadata": {},
   "outputs": [
    {
     "data": {
      "text/plain": [
       "array([[1, 4],\n",
       "       [2, 5],\n",
       "       [3, 6]])"
      ]
     },
     "execution_count": 87,
     "metadata": {},
     "output_type": "execute_result"
    }
   ],
   "source": [
    "# 배열 합치기(hstack)\n",
    "# 2개 이상의 배열 수평 합체\n",
    "vector1 = np.array([1,2,3]).reshape(3,1)\n",
    "vector2 = np.array([4,5,6]).reshape(3,1)\n",
    "\n",
    "np.hstack([vector1,vector2])"
   ]
  },
  {
   "cell_type": "code",
   "execution_count": 92,
   "id": "b5496e95",
   "metadata": {},
   "outputs": [
    {
     "name": "stdout",
     "output_type": "stream",
     "text": [
      "[1 2 3 4 5 6]\n"
     ]
    }
   ],
   "source": [
    "# 배열 합치기(concatenate)\n",
    "# 2개 이상의 배열 수직, 수평 합체\n",
    "vector1 = np.array([1,2,3])\n",
    "vector2 = np.array([4,5,6])\n",
    "\n",
    "np.concatenate([vector1,vector2],axis=0)"
   ]
  },
  {
   "cell_type": "code",
   "execution_count": 94,
   "id": "9eb657db",
   "metadata": {},
   "outputs": [
    {
     "data": {
      "text/plain": [
       "array([[1, 4],\n",
       "       [2, 5],\n",
       "       [3, 6]])"
      ]
     },
     "execution_count": 94,
     "metadata": {},
     "output_type": "execute_result"
    }
   ],
   "source": [
    "vector1 = np.array([1,2,3]).reshape(3,1)\n",
    "vector2 = np.array([4,5,6]).reshape(3,1)\n",
    "\n",
    "np.concatenate([vector1,vector2],axis=1)"
   ]
  },
  {
   "cell_type": "code",
   "execution_count": 97,
   "id": "314270c6",
   "metadata": {},
   "outputs": [
    {
     "name": "stdout",
     "output_type": "stream",
     "text": [
      "[[5 6]]\n",
      "[[5]\n",
      " [6]]\n",
      "[[5]\n",
      " [6]]\n"
     ]
    }
   ],
   "source": [
    "# 행/열 바꾸기(transpose)\n",
    "matrix3 = np.array([[5,6]])\n",
    "print(matrix3)\n",
    "\n",
    "print(matrix3.transpose())  # 두개 사용 가능\n",
    "print(matrix3.T)"
   ]
  },
  {
   "cell_type": "code",
   "execution_count": 101,
   "id": "7c165554",
   "metadata": {},
   "outputs": [
    {
     "name": "stdout",
     "output_type": "stream",
     "text": [
      "[[5 6]\n",
      " [5 6]]\n",
      "[[5 6 5 6]]\n"
     ]
    }
   ],
   "source": [
    "# transpose + concatenate\n",
    "print(np.concatenate([matrix3,matrix3]))\n",
    "print(np.concatenate([matrix3,matrix3],axis=1))"
   ]
  },
  {
   "cell_type": "code",
   "execution_count": 110,
   "id": "bda7b73d",
   "metadata": {},
   "outputs": [
    {
     "name": "stdout",
     "output_type": "stream",
     "text": [
      "[[ 1  2  3  4  5]\n",
      " [ 6  7  8  9 10]]\n",
      "9 0\n",
      "[1 1 1 1 1]\n"
     ]
    }
   ],
   "source": [
    "# 인덱스 반환 함수\n",
    "# 최대값, 최소값\n",
    "a = np.arange(1,11).reshape(2,5)\n",
    "print(a)\n",
    "print(np.argmax(a),np.argmin(a))\n",
    "print(np.argmax(a,axis=0))"
   ]
  },
  {
   "cell_type": "code",
   "execution_count": 113,
   "id": "c157f2c5",
   "metadata": {},
   "outputs": [
    {
     "name": "stdout",
     "output_type": "stream",
     "text": [
      "[[1 2 3 4]\n",
      " [2 3 4 1]\n",
      " [3 4 1 2]]\n",
      "[3 2 1]\n",
      "[2 2 1 0]\n"
     ]
    }
   ],
   "source": [
    "b = np.array([[1,2,3,4],[2,3,4,1],[3,4,1,2]])\n",
    "print(b)\n",
    "print(np.argmax(b,axis=1))\n",
    "print(np.argmax(b,axis=0))"
   ]
  }
 ],
 "metadata": {
  "kernelspec": {
   "display_name": "Python 3 (ipykernel)",
   "language": "python",
   "name": "python3"
  },
  "language_info": {
   "codemirror_mode": {
    "name": "ipython",
    "version": 3
   },
   "file_extension": ".py",
   "mimetype": "text/x-python",
   "name": "python",
   "nbconvert_exporter": "python",
   "pygments_lexer": "ipython3",
   "version": "3.9.12"
  }
 },
 "nbformat": 4,
 "nbformat_minor": 5
}
